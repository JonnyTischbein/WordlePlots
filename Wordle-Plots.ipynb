{
 "cells": [
  {
   "cell_type": "markdown",
   "id": "bbfc498a",
   "metadata": {},
   "source": [
    "# Wordle Auswertung"
   ]
  },
  {
   "cell_type": "code",
   "execution_count": null,
   "id": "f6b40a13",
   "metadata": {
    "scrolled": true
   },
   "outputs": [],
   "source": [
    "import matplotlib.pyplot as plt\n",
    "import pandas as pd\n",
    "import re\n",
    "import seaborn as sns\n",
    "import numpy as np\n",
    "import datetime\n",
    "\n",
    "df = pd.read_json(\"result.json\")\n",
    "\n",
    "nerdle = []\n",
    "wordle = []\n",
    "sechsmalfuenf = []\n",
    "dungleon = []\n",
    "for x in [d for d in df.messages]:\n",
    "    date = datetime.datetime.strptime(x[\"date\"],\"%Y-%m-%dT%H:%M:%S\")\n",
    "    if x[\"type\"] == \"message\":\n",
    "        if type(x[\"text\"]) == list and len(x[\"text\"]) >= 2:\n",
    "            if type(x[\"text\"][0]) == dict:\n",
    "                if x[\"text\"][0][\"text\"] == \"6mal5.com\":\n",
    "                    result = re.findall(\"[0-6X]/[0-6]\", x[\"text\"][1])\n",
    "                    if result:\n",
    "                        sechsmalfuenf.append({'name': x[\"from\"], 'result': result[0][0], 'date': date})\n",
    "                if x[\"text\"][0][\"text\"] == \"https://www.dungleon.com\":\n",
    "                    result = re.findall(\"[0-6X]/[0-6]\", x[\"text\"][1])\n",
    "                    if result:\n",
    "                        dungleon.append({'name': x[\"from\"], 'result': result[0][0], 'date': date})\n",
    "        else:\n",
    "            if \"nerdlegame\" in x[\"text\"]:\n",
    "                result = re.findall(\"[0-6X]/[0-6]\", x[\"text\"])\n",
    "                if result:\n",
    "                    nerdle.append({'name': x[\"from\"], 'result': int(result[0][0]), 'date': date})\n",
    "            elif \"Wordle\" in x[\"text\"]:\n",
    "                result = re.findall(\"[0-6X]/[0-6]\", x[\"text\"])\n",
    "                if result:\n",
    "                    wordle.append({'name': x[\"from\"], 'result': result[0][0], 'date': date})\n",
    "\n",
    "sns.set(style='darkgrid')"
   ]
  },
  {
   "cell_type": "code",
   "execution_count": null,
   "id": "6154080e",
   "metadata": {},
   "outputs": [],
   "source": [
    "def plot_game(game_name, data):\n",
    "    fig, axs = plt.subplots(2, figsize=(15,10))\n",
    "    plt.suptitle(\"%s Ergebnisse\" %game_name)    \n",
    "\n",
    "    df = pd.DataFrame.from_dict(data)\n",
    "    names = [name for name in np.sort(df[\"name\"].unique())]\n",
    "    results = [result for result in np.sort(df[\"result\"].unique())]\n",
    "    \n",
    "    ## Absolute Frequency\n",
    "    abs_freq = pd.DataFrame()\n",
    "    abs_freq = df.value_counts(normalize=False).reset_index()\n",
    "    abs_freq.columns = [\"name\", \"result\", \"count\"]\n",
    "\n",
    "    ax = sns.barplot(ax=axs[0], x=\"name\", y=\"count\", hue=\"result\", data=abs_freq, order=names, hue_order=results)\n",
    "    ax.set(xlabel=\"Person\", ylabel=\"Anzahl\")\n",
    "    ax.legend(loc='center left', bbox_to_anchor=(1, 0.5))\n",
    "    ax.yaxis.grid(False)\n",
    "    ax.xaxis.grid(True)\n",
    "\n",
    "    ## Relative Frequency\n",
    "    df = pd.DataFrame.from_dict(data)\n",
    "    rel_freq = pd.DataFrame()\n",
    "    for name in df[\"name\"].unique():\n",
    "        temp = df.loc[df[\"name\"] == name]\n",
    "        temp = temp.value_counts(normalize=True).reset_index()\n",
    "        temp.columns = [\"name\", \"result\", \"count\"]\n",
    "        rel_freq = pd.concat([rel_freq, temp], ignore_index=True)\n",
    "    rel_freq[\"count\"] = 100 * rel_freq[\"count\"]\n",
    "\n",
    "    ax = sns.barplot(ax=axs[1], x=\"name\", y=\"count\", hue=\"result\", data=rel_freq, order=names, hue_order=results)\n",
    "    ax.set(xlabel=\"Person\", ylabel=\"Prozent\")\n",
    "    ax.legend(loc='center left', bbox_to_anchor=(1, 0.5))\n",
    "    ax.yaxis.grid(False)\n",
    "    ax.xaxis.grid(True)\n",
    "    \n",
    "    fig.savefig(game_name + \".png\")"
   ]
  },
  {
   "cell_type": "code",
   "execution_count": null,
   "id": "5a795d62",
   "metadata": {
    "scrolled": false
   },
   "outputs": [],
   "source": [
    "def plot_weekday(data_list, lable_list):\n",
    "    fig, axs = plt.subplots(1, figsize=(15,7))\n",
    "    days = ['Monday','Tuesday','Wednesday','Thursday','Friday','Saturday', 'Sunday']\n",
    "    \n",
    "    games_df = pd.DataFrame()\n",
    "    min_date = None\n",
    "    max_date = None\n",
    "    for i, data in enumerate(data_list):\n",
    "        df = pd.DataFrame.from_dict(data)        \n",
    "        \n",
    "        \n",
    "        tmp_min = df[\"date\"].min()\n",
    "        tmp_max = df[\"date\"].max()\n",
    "        min_date = tmp_min if not min_date else min_date\n",
    "        max_date = tmp_max if not max_date else max_date\n",
    "        \n",
    "        min_date = tmp_min if tmp_min < min_date else min_date\n",
    "        max_date = tmp_max if tmp_max > max_date else max_date\n",
    "                 \n",
    "        week_df = df[\"result\"].groupby(df['date'].dt.day_name()).count().reset_index()\n",
    "        week_df[\"game\"] = lable_list[i]\n",
    "        week_df.columns = [\"weekday\", \"result\", \"game\"]\n",
    "        \n",
    "        games_df = pd.concat([games_df, week_df], ignore_index=True)\n",
    "        \n",
    "    ax = sns.barplot(x=\"weekday\", y=\"result\", hue=\"game\", data=games_df, order=days)\n",
    "    ax.set(ylabel=\"Anzahl an Worlde\", xlabel=\"Wochentag\")\n",
    "    ax.legend(loc='center left', bbox_to_anchor=(1, 0.5))\n",
    "    plt.suptitle(\"Ergebnisse nach Wochentag zwischen %s und %s\" %(min_date.strftime(\"%b %Y\"), max_date.strftime(\"%b %Y\")))\n",
    "    fig.savefig(\"wordles_weekdays.png\")"
   ]
  },
  {
   "cell_type": "code",
   "execution_count": null,
   "id": "3c8e47a8",
   "metadata": {
    "scrolled": true
   },
   "outputs": [],
   "source": [
    "plot_game(\"Dungleon\", dungleon)"
   ]
  },
  {
   "cell_type": "code",
   "execution_count": null,
   "id": "ce5a296f",
   "metadata": {
    "scrolled": false
   },
   "outputs": [],
   "source": [
    "plot_game(\"Wordle\", wordle)"
   ]
  },
  {
   "cell_type": "code",
   "execution_count": null,
   "id": "6ed7828e",
   "metadata": {
    "scrolled": false
   },
   "outputs": [],
   "source": [
    "plot_game(\"6mal5.com\", sechsmalfuenf)"
   ]
  },
  {
   "cell_type": "code",
   "execution_count": null,
   "id": "687b1b95",
   "metadata": {
    "scrolled": false
   },
   "outputs": [],
   "source": [
    "plot_game(\"Nerdle\", nerdle)"
   ]
  },
  {
   "cell_type": "code",
   "execution_count": null,
   "id": "f0097ab4",
   "metadata": {},
   "outputs": [],
   "source": [
    "plot_weekday([wordle, sechsmalfuenf, nerdle, dungleon], [\"Wordle\", \"6mal5.com\", \"Nerdle\", \"Dungleon\"])"
   ]
  }
 ],
 "metadata": {
  "kernelspec": {
   "display_name": "Python 3 (ipykernel)",
   "language": "python",
   "name": "python3"
  },
  "language_info": {
   "codemirror_mode": {
    "name": "ipython",
    "version": 3
   },
   "file_extension": ".py",
   "mimetype": "text/x-python",
   "name": "python",
   "nbconvert_exporter": "python",
   "pygments_lexer": "ipython3",
   "version": "3.10.4"
  }
 },
 "nbformat": 4,
 "nbformat_minor": 5
}
